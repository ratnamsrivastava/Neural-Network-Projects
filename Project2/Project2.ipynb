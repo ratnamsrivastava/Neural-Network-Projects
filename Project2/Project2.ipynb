{
 "cells": [
  {
   "cell_type": "code",
   "execution_count": 1,
   "metadata": {},
   "outputs": [],
   "source": [
    "import numpy as np"
   ]
  },
  {
   "cell_type": "code",
   "execution_count": 2,
   "metadata": {},
   "outputs": [],
   "source": [
    "alpha = 1\n",
    "s= [[1,1,-1],[1,2,-1],[2,-1,1],[2,0,1],[1,-2,1],[0,0,1],[-1,2,1],[-2,1,1],[-1,-1,-1],[-2,-2,-1],[-2,-1,-1]]\n",
    "t = [[-1,-1],[-1,-1],[-1,1],[-1,1],[-1,1],[-1,1],[1,-1],[1,-1],[1,1],[1,1],[1,1]]\n",
    "w = np.matrix(np.zeros((3,2)))\n",
    "b = np.matrix(np.zeros(2))"
   ]
  },
  {
   "cell_type": "code",
   "execution_count": 3,
   "metadata": {},
   "outputs": [
    {
     "name": "stdout",
     "output_type": "stream",
     "text": [
      "For alpha = 1, Error = 232487395429433.28\n",
      "\n",
      "For alpha = 0.75, Error = 2.8220866813392072e+26\n",
      "\n",
      "For alpha = 0.5, Error = 3.9886510714249684e+33\n",
      "\n",
      "For alpha = 0.25, Error = 7.274678571443941e+35\n",
      "\n",
      "For alpha = 0.0125, Error = 6.882816962310347e+36\n",
      "\n",
      "For alpha = 0.01, Error = 2.9146479686114034e+36\n",
      "\n",
      "For alpha = 0.005, Error = 1.6562967133933545e+36\n",
      "\n",
      "For alpha = 0.001, Error = 1.3110287170396687e+36\n",
      "\n",
      "For iteration = 84, Weight = [[-2.96940410e+17 -4.10384383e+17]\n",
      " [ 2.49049687e+17  3.44197350e+17]\n",
      " [ 4.67529818e+17  6.46146263e+17]]\n",
      " Bias = [[1.53968765e+17 2.12791438e+17]]\n",
      "\n",
      "For iteration = 85, Weight = [[-2.91082693e+17 -4.02288768e+17]\n",
      " [ 2.46120828e+17  3.40149542e+17]\n",
      " [ 4.64600960e+17  6.42098455e+17]]\n",
      " Bias = [[1.51039907e+17 2.08743631e+17]]\n",
      "\n",
      "For iteration = 86, Weight = [[-2.91619892e+17 -4.03031199e+17]\n",
      " [ 2.45583630e+17  3.39407111e+17]\n",
      " [ 4.64063761e+17  6.41356024e+17]]\n",
      " Bias = [[1.51577106e+17 2.09486062e+17]]\n",
      "\n",
      "For iteration = 87, Weight = [[-2.92501548e+17 -4.04249686e+17]\n",
      " [ 2.44701973e+17  3.38188624e+17]\n",
      " [ 4.63622933e+17  6.40746781e+17]]\n",
      " Bias = [[1.52017934e+17 2.10095305e+17]]\n",
      "\n",
      "For iteration = 88, Weight = [[-2.92386764e+17 -4.04091049e+17]\n",
      " [ 2.44759366e+17  3.38267942e+17]\n",
      " [ 4.63680325e+17  6.40826099e+17]]\n",
      " Bias = [[1.51960542e+17 2.10015987e+17]]\n",
      "\n"
     ]
    }
   ],
   "source": [
    "Error_list = []\n",
    "Weight_list = [w]\n",
    "Bias_list = [b]\n",
    "\n",
    "for alpha in [1,0.75,0.5,0.25,0.0125,0.01, 0.005, 0.001]:\n",
    "    E = 0\n",
    "    for i in range(len(s)):\n",
    "        yin = np.matmul(np.array(s[i]),w)+b\n",
    "        y = yin\n",
    "        w = w-np.multiply(2*alpha,np.matmul((np.matrix(s[i]).T),np.matrix(np.array(y)-np.array(t[i]))))\n",
    "        b = b-np.multiply(2*alpha,np.matrix(np.array(y)-np.array(t[i])))\n",
    "        E += (np.array(y)[0][0]-t[i][0])**2 + (np.array(y)[0][1]-t[i][1])**2\n",
    "        Weight_list.append(w)\n",
    "        Bias_list.append(b)\n",
    "\n",
    "    E = E*1.0/11\n",
    "    print ('For alpha = {}, Error = {}\\n'.format(alpha,E))\n",
    "l = len(Weight_list)\n",
    "for index in range(l-5,l) :\n",
    "    print ('For iteration = {}, Weight = {}\\n Bias = {}\\n'.format(index,Weight_list[index],Bias_list[index]))\n",
    "    l+=1"
   ]
  },
  {
   "cell_type": "code",
   "execution_count": 4,
   "metadata": {},
   "outputs": [],
   "source": [
    "result_w = w\n",
    "result_b = b"
   ]
  },
  {
   "cell_type": "code",
   "execution_count": 5,
   "metadata": {},
   "outputs": [
    {
     "name": "stdout",
     "output_type": "stream",
     "text": [
      "Prediction for set 0 = [-1, -1]\n",
      "Prediction for set 1 = [-1, -1]\n",
      "Prediction for set 2 = [-1, -1]\n",
      "Prediction for set 3 = [1, 1]\n",
      "Prediction for set 4 = [-1, -1]\n",
      "Prediction for set 5 = [1, 1]\n",
      "Prediction for set 6 = [1, 1]\n",
      "Prediction for set 7 = [1, 1]\n",
      "Prediction for set 8 = [-1, -1]\n",
      "Prediction for set 9 = [-1, -1]\n",
      "Prediction for set 10 = [1, 1]\n",
      "Sets classified correctly = 3\n"
     ]
    }
   ],
   "source": [
    "corr_classified = 0\n",
    "for i in range(len(s)):\n",
    "    yin = np.matmul(np.array(s[i]),result_w)+result_b\n",
    "    yin0 = np.array(yin)[0][0]\n",
    "    yin1 = np.array(yin)[0][1]\n",
    "    if yin0>=0:\n",
    "        y0 = 1\n",
    "    else:\n",
    "        y0 = -1\n",
    "        \n",
    "    if yin1>=0:\n",
    "        y1 = 1\n",
    "    else:\n",
    "        y1 = -1\n",
    "    y = [y0,y1]\n",
    "    print ('Prediction for set {} = {}'.format(i,y))\n",
    "    if y == t[i]:\n",
    "        corr_classified+=1\n",
    "print ('Sets classified correctly = {}'.format(corr_classified))"
   ]
  },
  {
   "cell_type": "code",
   "execution_count": 6,
   "metadata": {},
   "outputs": [
    {
     "name": "stdout",
     "output_type": "stream",
     "text": [
      "[1, 1]\n",
      "[1, 1]\n",
      "[1, 1]\n",
      "[1, 1]\n",
      "[-1, -1]\n",
      "[-1, -1]\n",
      "[-1, -1]\n",
      "[-1, -1]\n",
      "[-1, -1]\n",
      "[-1, -1]\n",
      "[-1, -1]\n",
      "[-1, -1]\n",
      "[-1, -1]\n",
      "[-1, -1]\n",
      "[-1, -1]\n",
      "[-1, -1]\n",
      "[-1, -1]\n",
      "[-1, -1]\n",
      "[-1, -1]\n",
      "[-1, -1]\n"
     ]
    }
   ],
   "source": [
    "for steps in range(20):\n",
    "    s[7][0] += 1\n",
    "    ytest = np.matmul(np.array(s[7]),result_w)+result_b\n",
    "    ytest0 = np.array(ytest)[0][0]\n",
    "    ytest1 = np.array(ytest)[0][1]\n",
    "    if ytest0>=0:\n",
    "        y0 = 1\n",
    "    else:\n",
    "        y0 = -1\n",
    "        \n",
    "    if ytest1>=0:\n",
    "        y1 = 1\n",
    "    else:\n",
    "        y1 = -1\n",
    "    y = [y0,y1]\n",
    "    print (y)"
   ]
  }
 ],
 "metadata": {
  "kernelspec": {
   "display_name": "Python 3",
   "language": "python",
   "name": "python3"
  },
  "language_info": {
   "codemirror_mode": {
    "name": "ipython",
    "version": 3
   },
   "file_extension": ".py",
   "mimetype": "text/x-python",
   "name": "python",
   "nbconvert_exporter": "python",
   "pygments_lexer": "ipython3",
   "version": "3.6.5"
  }
 },
 "nbformat": 4,
 "nbformat_minor": 2
}
