{
  "nbformat": 4,
  "nbformat_minor": 0,
  "metadata": {
    "colab": {
      "name": "NN_proj3.ipynb",
      "version": "0.3.2",
      "provenance": [],
      "collapsed_sections": []
    },
    "kernelspec": {
      "name": "python2",
      "display_name": "Python 2"
    },
    "accelerator": "GPU"
  },
  "cells": [
    {
      "metadata": {
        "colab_type": "code",
        "id": "WNhWxvSc9h3t",
        "colab": {}
      },
      "cell_type": "code",
      "source": [
        "# Importing the necessary Libraries\n",
        "import numpy as np\n",
        "import random"
      ],
      "execution_count": 0,
      "outputs": []
    },
    {
      "metadata": {
        "colab_type": "code",
        "id": "xSB6xctK9kZO",
        "colab": {}
      },
      "cell_type": "code",
      "source": [
        "# Training Set\n",
        "S = np.array([[1, 1, -1, -1, -1, 1], [1, -1, -1, 1, -1, -1], [-1, -1, 1, 1, 1, -1], [-1, 1, 1, -1, 1, 1]]).reshape(4,-1)\n",
        "#S"
      ],
      "execution_count": 0,
      "outputs": []
    },
    {
      "metadata": {
        "colab_type": "code",
        "id": "vkljTKvK97sN",
        "outputId": "6c3c79b8-1ea4-4e24-903a-9e91592737ba",
        "colab": {
          "base_uri": "https://localhost:8080/",
          "height": 118
        }
      },
      "cell_type": "code",
      "source": [
        "# Weight Matrix Calculation using Hebb's rule\n",
        "W = np.array(np.zeros((6,6)))\n",
        "for i in range(len(S)):\n",
        "  W = W + S[i].reshape(-1,1) * S[i].reshape(1,-1)\n",
        "W"
      ],
      "execution_count": 3,
      "outputs": [
        {
          "output_type": "execute_result",
          "data": {
            "text/plain": [
              "array([[ 4.,  0., -4.,  0., -4.,  0.],\n",
              "       [ 0.,  4.,  0., -4.,  0.,  4.],\n",
              "       [-4.,  0.,  4.,  0.,  4.,  0.],\n",
              "       [ 0., -4.,  0.,  4.,  0., -4.],\n",
              "       [-4.,  0.,  4.,  0.,  4.,  0.],\n",
              "       [ 0.,  4.,  0., -4.,  0.,  4.]])"
            ]
          },
          "metadata": {
            "tags": []
          },
          "execution_count": 3
        }
      ]
    },
    {
      "metadata": {
        "id": "NBLzVx4YKvuV",
        "colab_type": "code",
        "outputId": "060b6ca6-c979-4ea4-ab32-5abc58a4782b",
        "colab": {
          "base_uri": "https://localhost:8080/",
          "height": 118
        }
      },
      "cell_type": "code",
      "source": [
        "# Diagonal Elements of the Weight Matrix set to Zero as there are no Self Connections\n",
        "for i in range(6):\n",
        "  W[i,i]=0\n",
        "W"
      ],
      "execution_count": 4,
      "outputs": [
        {
          "output_type": "execute_result",
          "data": {
            "text/plain": [
              "array([[ 0.,  0., -4.,  0., -4.,  0.],\n",
              "       [ 0.,  0.,  0., -4.,  0.,  4.],\n",
              "       [-4.,  0.,  0.,  0.,  4.,  0.],\n",
              "       [ 0., -4.,  0.,  0.,  0., -4.],\n",
              "       [-4.,  0.,  4.,  0.,  0.,  0.],\n",
              "       [ 0.,  4.,  0., -4.,  0.,  0.]])"
            ]
          },
          "metadata": {
            "tags": []
          },
          "execution_count": 4
        }
      ]
    },
    {
      "metadata": {
        "colab_type": "code",
        "id": "T4K8LjcY-HIn",
        "outputId": "883ef5c6-ca62-4078-fce8-3cf53aa54bf7",
        "colab": {
          "base_uri": "https://localhost:8080/",
          "height": 84
        }
      },
      "cell_type": "code",
      "source": [
        "# Computation of Net Input (yin) and Updation of activations using the fHopfield Transfer Function\n",
        "orders = range(S.shape[1])\n",
        "random.shuffle(orders)     # Neurons are updated randomly and asynchronously\n",
        "for i in range(S.shape[0]):\n",
        "  y = [0 for j in range(S.shape[1])]\n",
        "  s = S[i].reshape(1,-1)\n",
        "  for order in orders:\n",
        "    y[order] = s[0][order] + np.dot(s,(W[:,order].reshape(6,1)))[0][0]\n",
        "  y = np.array(y)\n",
        "  # fHopfield Transfer Function with Threshold kept as Zero\n",
        "  y[y>0]=1\n",
        "  y[y<0]=-1\n",
        "#   print s[0]\n",
        "  for j in range(len(y)):\n",
        "    if y[j]==0:\n",
        "      y[j] = s[0][j]\n",
        "  print y     #All four stored patterns are equilibrium states of the system as can be seen\n",
        "# Training part ends  \n",
        "  "
      ],
      "execution_count": 5,
      "outputs": [
        {
          "output_type": "stream",
          "text": [
            "[ 1.  1. -1. -1. -1.  1.]\n",
            "[ 1. -1. -1.  1. -1. -1.]\n",
            "[-1. -1.  1.  1.  1. -1.]\n",
            "[-1.  1.  1. -1.  1.  1.]\n"
          ],
          "name": "stdout"
        }
      ]
    },
    {
      "metadata": {
        "colab_type": "code",
        "id": "TfXHzyCUKlsy",
        "colab": {}
      },
      "cell_type": "code",
      "source": [
        "S=S.tolist()\n",
        "#S"
      ],
      "execution_count": 0,
      "outputs": []
    },
    {
      "metadata": {
        "colab_type": "code",
        "id": "drCHnBHcAZux",
        "outputId": "a83160fb-cad1-4445-9439-b99ea2c421ca",
        "colab": {
          "base_uri": "https://localhost:8080/",
          "height": 34
        }
      },
      "cell_type": "code",
      "source": [
        "# Testing Part\n",
        "# Taking all combinations of Bipolar vectors as Test Vectors\n",
        "from itertools import combinations\n",
        "\n",
        "all_input = []\n",
        "\n",
        "vec = range(6)\n",
        "all_states = []\n",
        "for k in range(7):\n",
        "\n",
        "  comb = list(combinations(vec,k))\n",
        "\n",
        "  for combination in comb:\n",
        "    temp = [1 for i in range(6)]\n",
        "    for ele in combination:\n",
        "      temp[ele] = -1\n",
        "    all_states.append(temp)\n",
        "        \n",
        "all_states = np.array(all_states)\n",
        "\n",
        "all_states.shape    # There are 64 different Bipolar Vectors"
      ],
      "execution_count": 7,
      "outputs": [
        {
          "output_type": "execute_result",
          "data": {
            "text/plain": [
              "(64, 6)"
            ]
          },
          "metadata": {
            "tags": []
          },
          "execution_count": 7
        }
      ]
    },
    {
      "metadata": {
        "colab_type": "code",
        "id": "nUeqfch6OAEE",
        "colab": {}
      },
      "cell_type": "code",
      "source": [
        "equi_states = []      # \"List\" holding all equillibrium states of the system \n",
        "spurious_states = []   # \"List\" holding all spurious states of the system"
      ],
      "execution_count": 0,
      "outputs": []
    },
    {
      "metadata": {
        "colab_type": "code",
        "id": "A0wJtfQ-RMwb",
        "colab": {}
      },
      "cell_type": "code",
      "source": [
        "from collections import defaultdict\n",
        "basins = defaultdict(list)       # This holds all the basins of attractions"
      ],
      "execution_count": 0,
      "outputs": []
    },
    {
      "metadata": {
        "colab_type": "code",
        "id": "jxXY3tulLRE5",
        "colab": {}
      },
      "cell_type": "code",
      "source": [
        "# Getting the list of all equilibrium states, basin of attractions and spurious states of the system\n",
        "basins = dict((i,[]) for i in range(4))\n",
        "\n",
        "for i in range(all_states.shape[0]):\n",
        "  y = [0 for j in range(all_states.shape[1])]\n",
        "  s = all_states[i].reshape(1,-1)\n",
        "  for order in orders:\n",
        "    y[order] = s[0][order] + np.dot(s,(W[:,order].reshape(6,1)))[0][0]\n",
        "  y = np.array(y)\n",
        "  y[y>0]=1\n",
        "  y[y<0]=-1\n",
        "  for j in range(len(y)):\n",
        "    if y[j]==0:\n",
        "      y[j] = s[0][j]\n",
        "  y = y.tolist()\n",
        "  if y in S:\n",
        "    equi_states.append(y)\n",
        "    for j in range(len(S)):\n",
        "      if y == S[j]:\n",
        "        basins[j].append(y)\n",
        "        break\n",
        "  else:\n",
        "    spurious_states.append(y)"
      ],
      "execution_count": 0,
      "outputs": []
    },
    {
      "metadata": {
        "colab_type": "code",
        "id": "5TP-ULbHOO-q",
        "outputId": "e7fc07db-a47b-4313-9326-96e2c66719b1",
        "colab": {
          "base_uri": "https://localhost:8080/",
          "height": 1092
        }
      },
      "cell_type": "code",
      "source": [
        "equi_states # List of all the equillibrium states of the system"
      ],
      "execution_count": 11,
      "outputs": [
        {
          "output_type": "execute_result",
          "data": {
            "text/plain": [
              "[[-1.0, 1.0, 1.0, -1.0, 1.0, 1.0],\n",
              " [-1.0, 1.0, 1.0, -1.0, 1.0, 1.0],\n",
              " [-1.0, -1.0, 1.0, 1.0, 1.0, -1.0],\n",
              " [1.0, 1.0, -1.0, -1.0, -1.0, 1.0],\n",
              " [-1.0, 1.0, 1.0, -1.0, 1.0, 1.0],\n",
              " [1.0, 1.0, -1.0, -1.0, -1.0, 1.0],\n",
              " [-1.0, -1.0, 1.0, 1.0, 1.0, -1.0],\n",
              " [-1.0, -1.0, 1.0, 1.0, 1.0, -1.0],\n",
              " [-1.0, 1.0, 1.0, -1.0, 1.0, 1.0],\n",
              " [-1.0, 1.0, 1.0, -1.0, 1.0, 1.0],\n",
              " [-1.0, 1.0, 1.0, -1.0, 1.0, 1.0],\n",
              " [-1.0, -1.0, 1.0, 1.0, 1.0, -1.0],\n",
              " [1.0, -1.0, -1.0, 1.0, -1.0, -1.0],\n",
              " [-1.0, 1.0, 1.0, -1.0, 1.0, 1.0],\n",
              " [1.0, -1.0, -1.0, 1.0, -1.0, -1.0],\n",
              " [-1.0, -1.0, 1.0, 1.0, 1.0, -1.0],\n",
              " [1.0, 1.0, -1.0, -1.0, -1.0, 1.0],\n",
              " [1.0, 1.0, -1.0, -1.0, -1.0, 1.0],\n",
              " [1.0, -1.0, -1.0, 1.0, -1.0, -1.0],\n",
              " [1.0, 1.0, -1.0, -1.0, -1.0, 1.0],\n",
              " [-1.0, 1.0, 1.0, -1.0, 1.0, 1.0],\n",
              " [1.0, -1.0, -1.0, 1.0, -1.0, -1.0],\n",
              " [-1.0, -1.0, 1.0, 1.0, 1.0, -1.0],\n",
              " [-1.0, 1.0, 1.0, -1.0, 1.0, 1.0],\n",
              " [-1.0, -1.0, 1.0, 1.0, 1.0, -1.0],\n",
              " [-1.0, -1.0, 1.0, 1.0, 1.0, -1.0],\n",
              " [-1.0, 1.0, 1.0, -1.0, 1.0, 1.0],\n",
              " [1.0, 1.0, -1.0, -1.0, -1.0, 1.0],\n",
              " [-1.0, -1.0, 1.0, 1.0, 1.0, -1.0],\n",
              " [-1.0, 1.0, 1.0, -1.0, 1.0, 1.0],\n",
              " [-1.0, 1.0, 1.0, -1.0, 1.0, 1.0],\n",
              " [-1.0, -1.0, 1.0, 1.0, 1.0, -1.0],\n",
              " [1.0, 1.0, -1.0, -1.0, -1.0, 1.0],\n",
              " [1.0, -1.0, -1.0, 1.0, -1.0, -1.0],\n",
              " [1.0, -1.0, -1.0, 1.0, -1.0, -1.0],\n",
              " [1.0, 1.0, -1.0, -1.0, -1.0, 1.0],\n",
              " [-1.0, -1.0, 1.0, 1.0, 1.0, -1.0],\n",
              " [1.0, -1.0, -1.0, 1.0, -1.0, -1.0],\n",
              " [1.0, 1.0, -1.0, -1.0, -1.0, 1.0],\n",
              " [1.0, 1.0, -1.0, -1.0, -1.0, 1.0],\n",
              " [1.0, -1.0, -1.0, 1.0, -1.0, -1.0],\n",
              " [1.0, 1.0, -1.0, -1.0, -1.0, 1.0],\n",
              " [-1.0, 1.0, 1.0, -1.0, 1.0, 1.0],\n",
              " [1.0, -1.0, -1.0, 1.0, -1.0, -1.0],\n",
              " [-1.0, -1.0, 1.0, 1.0, 1.0, -1.0],\n",
              " [-1.0, 1.0, 1.0, -1.0, 1.0, 1.0],\n",
              " [-1.0, -1.0, 1.0, 1.0, 1.0, -1.0],\n",
              " [-1.0, -1.0, 1.0, 1.0, 1.0, -1.0],\n",
              " [1.0, 1.0, -1.0, -1.0, -1.0, 1.0],\n",
              " [-1.0, 1.0, 1.0, -1.0, 1.0, 1.0],\n",
              " [1.0, -1.0, -1.0, 1.0, -1.0, -1.0],\n",
              " [-1.0, 1.0, 1.0, -1.0, 1.0, 1.0],\n",
              " [1.0, 1.0, -1.0, -1.0, -1.0, 1.0],\n",
              " [1.0, -1.0, -1.0, 1.0, -1.0, -1.0],\n",
              " [1.0, -1.0, -1.0, 1.0, -1.0, -1.0],\n",
              " [1.0, -1.0, -1.0, 1.0, -1.0, -1.0],\n",
              " [1.0, 1.0, -1.0, -1.0, -1.0, 1.0],\n",
              " [1.0, 1.0, -1.0, -1.0, -1.0, 1.0],\n",
              " [-1.0, -1.0, 1.0, 1.0, 1.0, -1.0],\n",
              " [1.0, -1.0, -1.0, 1.0, -1.0, -1.0],\n",
              " [-1.0, -1.0, 1.0, 1.0, 1.0, -1.0],\n",
              " [1.0, 1.0, -1.0, -1.0, -1.0, 1.0],\n",
              " [1.0, -1.0, -1.0, 1.0, -1.0, -1.0],\n",
              " [1.0, -1.0, -1.0, 1.0, -1.0, -1.0]]"
            ]
          },
          "metadata": {
            "tags": []
          },
          "execution_count": 11
        }
      ]
    },
    {
      "metadata": {
        "colab_type": "code",
        "id": "HfehNMUvOQSp",
        "outputId": "33c929f4-9c1b-4835-9063-01063bba66b4",
        "colab": {
          "base_uri": "https://localhost:8080/",
          "height": 34
        }
      },
      "cell_type": "code",
      "source": [
        "spurious_states # List of all the spurious states of the system"
      ],
      "execution_count": 12,
      "outputs": [
        {
          "output_type": "execute_result",
          "data": {
            "text/plain": [
              "[]"
            ]
          },
          "metadata": {
            "tags": []
          },
          "execution_count": 12
        }
      ]
    },
    {
      "metadata": {
        "id": "yWZQK4tCGqOJ",
        "colab_type": "code",
        "outputId": "980718a7-66b2-4fcb-f425-4b2607891919",
        "colab": {
          "base_uri": "https://localhost:8080/",
          "height": 1092
        }
      },
      "cell_type": "code",
      "source": [
        "reverse_states = []  # \"List\" holding all the equillibrium states of the system that can be considered reversed states\n",
        "\n",
        "for ele in equi_states:\n",
        "  if ele[::-1] in all_states:\n",
        "    reverse_states.append(ele)\n",
        "reverse_states    # Empty because we do not have any equillibrium states that can be considered as reversed states of something else"
      ],
      "execution_count": 13,
      "outputs": [
        {
          "output_type": "execute_result",
          "data": {
            "text/plain": [
              "[[-1.0, 1.0, 1.0, -1.0, 1.0, 1.0],\n",
              " [-1.0, 1.0, 1.0, -1.0, 1.0, 1.0],\n",
              " [-1.0, -1.0, 1.0, 1.0, 1.0, -1.0],\n",
              " [1.0, 1.0, -1.0, -1.0, -1.0, 1.0],\n",
              " [-1.0, 1.0, 1.0, -1.0, 1.0, 1.0],\n",
              " [1.0, 1.0, -1.0, -1.0, -1.0, 1.0],\n",
              " [-1.0, -1.0, 1.0, 1.0, 1.0, -1.0],\n",
              " [-1.0, -1.0, 1.0, 1.0, 1.0, -1.0],\n",
              " [-1.0, 1.0, 1.0, -1.0, 1.0, 1.0],\n",
              " [-1.0, 1.0, 1.0, -1.0, 1.0, 1.0],\n",
              " [-1.0, 1.0, 1.0, -1.0, 1.0, 1.0],\n",
              " [-1.0, -1.0, 1.0, 1.0, 1.0, -1.0],\n",
              " [1.0, -1.0, -1.0, 1.0, -1.0, -1.0],\n",
              " [-1.0, 1.0, 1.0, -1.0, 1.0, 1.0],\n",
              " [1.0, -1.0, -1.0, 1.0, -1.0, -1.0],\n",
              " [-1.0, -1.0, 1.0, 1.0, 1.0, -1.0],\n",
              " [1.0, 1.0, -1.0, -1.0, -1.0, 1.0],\n",
              " [1.0, 1.0, -1.0, -1.0, -1.0, 1.0],\n",
              " [1.0, -1.0, -1.0, 1.0, -1.0, -1.0],\n",
              " [1.0, 1.0, -1.0, -1.0, -1.0, 1.0],\n",
              " [-1.0, 1.0, 1.0, -1.0, 1.0, 1.0],\n",
              " [1.0, -1.0, -1.0, 1.0, -1.0, -1.0],\n",
              " [-1.0, -1.0, 1.0, 1.0, 1.0, -1.0],\n",
              " [-1.0, 1.0, 1.0, -1.0, 1.0, 1.0],\n",
              " [-1.0, -1.0, 1.0, 1.0, 1.0, -1.0],\n",
              " [-1.0, -1.0, 1.0, 1.0, 1.0, -1.0],\n",
              " [-1.0, 1.0, 1.0, -1.0, 1.0, 1.0],\n",
              " [1.0, 1.0, -1.0, -1.0, -1.0, 1.0],\n",
              " [-1.0, -1.0, 1.0, 1.0, 1.0, -1.0],\n",
              " [-1.0, 1.0, 1.0, -1.0, 1.0, 1.0],\n",
              " [-1.0, 1.0, 1.0, -1.0, 1.0, 1.0],\n",
              " [-1.0, -1.0, 1.0, 1.0, 1.0, -1.0],\n",
              " [1.0, 1.0, -1.0, -1.0, -1.0, 1.0],\n",
              " [1.0, -1.0, -1.0, 1.0, -1.0, -1.0],\n",
              " [1.0, -1.0, -1.0, 1.0, -1.0, -1.0],\n",
              " [1.0, 1.0, -1.0, -1.0, -1.0, 1.0],\n",
              " [-1.0, -1.0, 1.0, 1.0, 1.0, -1.0],\n",
              " [1.0, -1.0, -1.0, 1.0, -1.0, -1.0],\n",
              " [1.0, 1.0, -1.0, -1.0, -1.0, 1.0],\n",
              " [1.0, 1.0, -1.0, -1.0, -1.0, 1.0],\n",
              " [1.0, -1.0, -1.0, 1.0, -1.0, -1.0],\n",
              " [1.0, 1.0, -1.0, -1.0, -1.0, 1.0],\n",
              " [-1.0, 1.0, 1.0, -1.0, 1.0, 1.0],\n",
              " [1.0, -1.0, -1.0, 1.0, -1.0, -1.0],\n",
              " [-1.0, -1.0, 1.0, 1.0, 1.0, -1.0],\n",
              " [-1.0, 1.0, 1.0, -1.0, 1.0, 1.0],\n",
              " [-1.0, -1.0, 1.0, 1.0, 1.0, -1.0],\n",
              " [-1.0, -1.0, 1.0, 1.0, 1.0, -1.0],\n",
              " [1.0, 1.0, -1.0, -1.0, -1.0, 1.0],\n",
              " [-1.0, 1.0, 1.0, -1.0, 1.0, 1.0],\n",
              " [1.0, -1.0, -1.0, 1.0, -1.0, -1.0],\n",
              " [-1.0, 1.0, 1.0, -1.0, 1.0, 1.0],\n",
              " [1.0, 1.0, -1.0, -1.0, -1.0, 1.0],\n",
              " [1.0, -1.0, -1.0, 1.0, -1.0, -1.0],\n",
              " [1.0, -1.0, -1.0, 1.0, -1.0, -1.0],\n",
              " [1.0, -1.0, -1.0, 1.0, -1.0, -1.0],\n",
              " [1.0, 1.0, -1.0, -1.0, -1.0, 1.0],\n",
              " [1.0, 1.0, -1.0, -1.0, -1.0, 1.0],\n",
              " [-1.0, -1.0, 1.0, 1.0, 1.0, -1.0],\n",
              " [1.0, -1.0, -1.0, 1.0, -1.0, -1.0],\n",
              " [-1.0, -1.0, 1.0, 1.0, 1.0, -1.0],\n",
              " [1.0, 1.0, -1.0, -1.0, -1.0, 1.0],\n",
              " [1.0, -1.0, -1.0, 1.0, -1.0, -1.0],\n",
              " [1.0, -1.0, -1.0, 1.0, -1.0, -1.0]]"
            ]
          },
          "metadata": {
            "tags": []
          },
          "execution_count": 13
        }
      ]
    },
    {
      "metadata": {
        "colab_type": "code",
        "id": "p9sOmXVTOmBh",
        "outputId": "3ac41a52-e696-490a-a91d-8e94cb8e2083",
        "colab": {
          "base_uri": "https://localhost:8080/",
          "height": 286
        }
      },
      "cell_type": "code",
      "source": [
        "basins[0] # List of all the equillibrium states of the system that have the 1st training vector [1, 1, -1, -1, -1, 1] as the basin of attraction"
      ],
      "execution_count": 14,
      "outputs": [
        {
          "output_type": "execute_result",
          "data": {
            "text/plain": [
              "[[1.0, 1.0, -1.0, -1.0, -1.0, 1.0],\n",
              " [1.0, 1.0, -1.0, -1.0, -1.0, 1.0],\n",
              " [1.0, 1.0, -1.0, -1.0, -1.0, 1.0],\n",
              " [1.0, 1.0, -1.0, -1.0, -1.0, 1.0],\n",
              " [1.0, 1.0, -1.0, -1.0, -1.0, 1.0],\n",
              " [1.0, 1.0, -1.0, -1.0, -1.0, 1.0],\n",
              " [1.0, 1.0, -1.0, -1.0, -1.0, 1.0],\n",
              " [1.0, 1.0, -1.0, -1.0, -1.0, 1.0],\n",
              " [1.0, 1.0, -1.0, -1.0, -1.0, 1.0],\n",
              " [1.0, 1.0, -1.0, -1.0, -1.0, 1.0],\n",
              " [1.0, 1.0, -1.0, -1.0, -1.0, 1.0],\n",
              " [1.0, 1.0, -1.0, -1.0, -1.0, 1.0],\n",
              " [1.0, 1.0, -1.0, -1.0, -1.0, 1.0],\n",
              " [1.0, 1.0, -1.0, -1.0, -1.0, 1.0],\n",
              " [1.0, 1.0, -1.0, -1.0, -1.0, 1.0],\n",
              " [1.0, 1.0, -1.0, -1.0, -1.0, 1.0]]"
            ]
          },
          "metadata": {
            "tags": []
          },
          "execution_count": 14
        }
      ]
    },
    {
      "metadata": {
        "colab_type": "code",
        "id": "efp97WujOx4F",
        "outputId": "e208ca0f-5bc2-424d-fc7f-5530f8aa00dd",
        "colab": {
          "base_uri": "https://localhost:8080/",
          "height": 286
        }
      },
      "cell_type": "code",
      "source": [
        "basins[1] # List of all the equillibrium states of the system that have the 2nd training vector [1, -1, -1, 1, -1, -1] as the basin of attraction"
      ],
      "execution_count": 15,
      "outputs": [
        {
          "output_type": "execute_result",
          "data": {
            "text/plain": [
              "[[1.0, -1.0, -1.0, 1.0, -1.0, -1.0],\n",
              " [1.0, -1.0, -1.0, 1.0, -1.0, -1.0],\n",
              " [1.0, -1.0, -1.0, 1.0, -1.0, -1.0],\n",
              " [1.0, -1.0, -1.0, 1.0, -1.0, -1.0],\n",
              " [1.0, -1.0, -1.0, 1.0, -1.0, -1.0],\n",
              " [1.0, -1.0, -1.0, 1.0, -1.0, -1.0],\n",
              " [1.0, -1.0, -1.0, 1.0, -1.0, -1.0],\n",
              " [1.0, -1.0, -1.0, 1.0, -1.0, -1.0],\n",
              " [1.0, -1.0, -1.0, 1.0, -1.0, -1.0],\n",
              " [1.0, -1.0, -1.0, 1.0, -1.0, -1.0],\n",
              " [1.0, -1.0, -1.0, 1.0, -1.0, -1.0],\n",
              " [1.0, -1.0, -1.0, 1.0, -1.0, -1.0],\n",
              " [1.0, -1.0, -1.0, 1.0, -1.0, -1.0],\n",
              " [1.0, -1.0, -1.0, 1.0, -1.0, -1.0],\n",
              " [1.0, -1.0, -1.0, 1.0, -1.0, -1.0],\n",
              " [1.0, -1.0, -1.0, 1.0, -1.0, -1.0]]"
            ]
          },
          "metadata": {
            "tags": []
          },
          "execution_count": 15
        }
      ]
    },
    {
      "metadata": {
        "colab_type": "code",
        "id": "64L1LD7MSfx3",
        "outputId": "bc1c1581-e849-496b-e975-0c7ff311a2a9",
        "colab": {
          "base_uri": "https://localhost:8080/",
          "height": 286
        }
      },
      "cell_type": "code",
      "source": [
        "basins[2] # List of all the equillibrium states of the system that have the 3rd training vector [-1, -1, 1, 1, 1, -1] as the basin of attraction"
      ],
      "execution_count": 16,
      "outputs": [
        {
          "output_type": "execute_result",
          "data": {
            "text/plain": [
              "[[-1.0, -1.0, 1.0, 1.0, 1.0, -1.0],\n",
              " [-1.0, -1.0, 1.0, 1.0, 1.0, -1.0],\n",
              " [-1.0, -1.0, 1.0, 1.0, 1.0, -1.0],\n",
              " [-1.0, -1.0, 1.0, 1.0, 1.0, -1.0],\n",
              " [-1.0, -1.0, 1.0, 1.0, 1.0, -1.0],\n",
              " [-1.0, -1.0, 1.0, 1.0, 1.0, -1.0],\n",
              " [-1.0, -1.0, 1.0, 1.0, 1.0, -1.0],\n",
              " [-1.0, -1.0, 1.0, 1.0, 1.0, -1.0],\n",
              " [-1.0, -1.0, 1.0, 1.0, 1.0, -1.0],\n",
              " [-1.0, -1.0, 1.0, 1.0, 1.0, -1.0],\n",
              " [-1.0, -1.0, 1.0, 1.0, 1.0, -1.0],\n",
              " [-1.0, -1.0, 1.0, 1.0, 1.0, -1.0],\n",
              " [-1.0, -1.0, 1.0, 1.0, 1.0, -1.0],\n",
              " [-1.0, -1.0, 1.0, 1.0, 1.0, -1.0],\n",
              " [-1.0, -1.0, 1.0, 1.0, 1.0, -1.0],\n",
              " [-1.0, -1.0, 1.0, 1.0, 1.0, -1.0]]"
            ]
          },
          "metadata": {
            "tags": []
          },
          "execution_count": 16
        }
      ]
    },
    {
      "metadata": {
        "colab_type": "code",
        "id": "u3Eam4YjSkI8",
        "outputId": "1075d4e3-f081-412b-cf28-6da2b4472e29",
        "colab": {
          "base_uri": "https://localhost:8080/",
          "height": 286
        }
      },
      "cell_type": "code",
      "source": [
        "basins[3] # List of all the equillibrium states of the system that have the 4th training vector [-1, 1, 1, -1, 1, 1] as the basin of attraction"
      ],
      "execution_count": 17,
      "outputs": [
        {
          "output_type": "execute_result",
          "data": {
            "text/plain": [
              "[[-1.0, 1.0, 1.0, -1.0, 1.0, 1.0],\n",
              " [-1.0, 1.0, 1.0, -1.0, 1.0, 1.0],\n",
              " [-1.0, 1.0, 1.0, -1.0, 1.0, 1.0],\n",
              " [-1.0, 1.0, 1.0, -1.0, 1.0, 1.0],\n",
              " [-1.0, 1.0, 1.0, -1.0, 1.0, 1.0],\n",
              " [-1.0, 1.0, 1.0, -1.0, 1.0, 1.0],\n",
              " [-1.0, 1.0, 1.0, -1.0, 1.0, 1.0],\n",
              " [-1.0, 1.0, 1.0, -1.0, 1.0, 1.0],\n",
              " [-1.0, 1.0, 1.0, -1.0, 1.0, 1.0],\n",
              " [-1.0, 1.0, 1.0, -1.0, 1.0, 1.0],\n",
              " [-1.0, 1.0, 1.0, -1.0, 1.0, 1.0],\n",
              " [-1.0, 1.0, 1.0, -1.0, 1.0, 1.0],\n",
              " [-1.0, 1.0, 1.0, -1.0, 1.0, 1.0],\n",
              " [-1.0, 1.0, 1.0, -1.0, 1.0, 1.0],\n",
              " [-1.0, 1.0, 1.0, -1.0, 1.0, 1.0],\n",
              " [-1.0, 1.0, 1.0, -1.0, 1.0, 1.0]]"
            ]
          },
          "metadata": {
            "tags": []
          },
          "execution_count": 17
        }
      ]
    },
    {
      "metadata": {
        "colab_type": "code",
        "id": "zQr-7iG5TADq",
        "outputId": "124388ca-5ef6-403d-e2d4-652641f9e69e",
        "colab": {
          "base_uri": "https://localhost:8080/",
          "height": 34
        }
      },
      "cell_type": "code",
      "source": [
        "chance = len(spurious_states)*100.0/all_states.shape[0]\n",
        "chance # The chance that an input pattern does not associate with any of the stored pattern "
      ],
      "execution_count": 18,
      "outputs": [
        {
          "output_type": "execute_result",
          "data": {
            "text/plain": [
              "0.0"
            ]
          },
          "metadata": {
            "tags": []
          },
          "execution_count": 18
        }
      ]
    }
  ]
}